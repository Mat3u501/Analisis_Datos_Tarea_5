{
 "cells": [
  {
   "cell_type": "code",
   "execution_count": null,
   "id": "4b2a3f7c",
   "metadata": {},
   "outputs": [],
   "source": [
    "import pandas as pd\n",
    "from sklearn.model_selection import train_test_split\n",
    "from sklearn.linear_model import LogisticRegression\n",
    "from sklearn.metrics import accuracy_score, confusion_matrix, classification_report\n",
    "import seaborn as sns\n",
    "import matplotlib.pyplot as plt\n",
    "import numpy as np\n",
    "from IPython.display import HTML, display\n",
    "\n",
    "# Cargar el conjunto de datos\n",
    "file_path = '/Titanic-Dataset.csv'\n",
    "titanic_data = pd.read_csv(file_path)\n",
    "\n",
    "# Mostrar las primeras filas del conjunto de datos\n",
    "titanic_data.head()\n",
    "\n",
    "# Verificar valores faltantes y obtener un resumen del conjunto de datos\n",
    "missing_values = titanic_data.isnull().sum()\n",
    "summary = titanic_data.describe(include='all')\n",
    "\n",
    "missing_values, summary\n",
    "\n",
    "# Manejo de valores faltantes\n",
    "\n",
    "# Imputar edades faltantes con la edad mediana\n",
    "titanic_data['Age'].fillna(titanic_data['Age'].median(), inplace=True)\n",
    "\n",
    "# Imputar valores faltantes de 'Embarked' con la moda (valor más común)\n",
    "titanic_data['Embarked'].fillna(titanic_data['Embarked'].mode()[0], inplace=True)\n",
    "\n",
    "# Eliminar la columna 'Cabin' debido a la gran cantidad de valores faltantes\n",
    "titanic_data.drop(columns=['Cabin'], inplace=True)\n",
    "\n",
    "# Ingeniería de características\n",
    "\n",
    "# Convertir características categóricas ('Sex' y 'Embarked') en representaciones numéricas\n",
    "titanic_data['Sex'] = titanic_data['Sex'].map({'male': 0, 'female': 1})\n",
    "titanic_data = pd.get_dummies(titanic_data, columns=['Embarked'], drop_first=True)\n",
    "\n",
    "# Crear una nueva característica 'FamilySize' combinando 'SibSp' y 'Parch'\n",
    "titanic_data['FamilySize'] = titanic_data['SibSp'] + titanic_data['Parch']\n",
    "\n",
    "# Eliminar columnas innecesarias\n",
    "titanic_data.drop(columns=['Name', 'Ticket'], inplace=True)\n",
    "\n",
    "# Mostrar las primeras filas del conjunto de datos limpio y con ingeniería de características\n",
    "titanic_data.head()\n",
    "\n",
    "# Definir características y objetivo\n",
    "X = titanic_data.drop(columns=['Survived', 'PassengerId'])\n",
    "y = titanic_data['Survived']\n",
    "\n",
    "# Dividir los datos en conjuntos de entrenamiento y prueba\n",
    "X_train, X_test, y_train, y_test = train_test_split(X, y, test_size=0.2, random_state=42)\n",
    "\n",
    "# Inicializar y entrenar el modelo de Regresión Logística\n",
    "logreg = LogisticRegression(max_iter=200)\n",
    "logreg.fit(X_train, y_train)\n",
    "\n",
    "# Hacer predicciones en el conjunto de prueba\n",
    "y_pred = logreg.predict(X_test)\n",
    "\n",
    "# Evaluar el rendimiento del modelo\n",
    "accuracy = accuracy_score(y_test, y_pred)\n",
    "conf_matrix = confusion_matrix(y_test, y_pred)\n",
    "class_report = classification_report(y_test, y_pred)\n",
    "\n",
    "print(\"Precisión:\", accuracy)\n",
    "print(\"Matriz de Confusión:\\n\", conf_matrix)\n",
    "print(\"Informe de Clasificación:\\n\", class_report)\n",
    "\n",
    "# Visualización de resultados\n",
    "\n",
    "# Matriz de confusión\n",
    "plt.figure(figsize=(10, 7))\n",
    "sns.heatmap(conf_matrix, annot=True, fmt='d', cmap='Blues')\n",
    "plt.title('Matriz de Confusión')\n",
    "plt.xlabel('Predicción')\n",
    "plt.ylabel('Realidad')\n",
    "plt.show()\n",
    "\n",
    "# Gráficos de barras para la precisión, precisión, recall y f1-score\n",
    "report = classification_report(y_test, y_pred, output_dict=True)\n",
    "report_df = pd.DataFrame(report).transpose()\n",
    "\n",
    "plt.figure(figsize=(10, 7))\n",
    "sns.barplot(x=report_df.index[:-3], y='f1-score', data=report_df[:-3])\n",
    "plt.title('F1-Score por Clase')\n",
    "plt.xlabel('Clase')\n",
    "plt.ylabel('F1-Score')\n",
    "plt.show()\n",
    "\n",
    "# Mostrar el informe de clasificación como una tabla HTML\n",
    "display(HTML(report_df.to_html()))\n",
    "\n",
    "# Mostrar precisión del modelo\n",
    "print(f\"Precisión del modelo: {accuracy:.2f}\")"
   ]
  },
{
 "cells": [
  {
   "cell_type": "code",
   "execution_count": 1,
   "metadata": {},
   "outputs": [
    {
     "data": {
      "text/html": [
       "<table>\n",
       "<thead>\n",
       "<tr><th></th><th>Precision</th><th>Recall</th><th>F1-Score</th><th>Support</th></tr>\n",
       "</thead>\n",
       "<tbody>\n",
       "<tr><th>0</th><td>0.83</td><td>0.73</td><td>0.78</td><td>111.00</td></tr>\n",
       "<tr><th>1</th><td>0.71</td><td>0.81</td><td>0.76</td><td>68.00</td></tr>\n",
       "<tr><th>accuracy</th><td></td><td></td><td>0.77</td><td>179.00</td></tr>\n",
       "<tr><th>macro avg</th><td>0.77</td><td>0.77</td><td>0.77</td><td>179.00</td></tr>\n",
       "<tr><th>weighted avg</th><td>0.78</td><td>0.77</td><td>0.77</td><td>179.00</td></tr>\n",
       "</tbody>\n",
       "</table>"
      ],
      "text/plain": [
       "              Precision  Recall  F1-Score  Support\n",
       "0                 0.83    0.73      0.78   111.00\n",
       "1                 0.71    0.81      0.76    68.00\n",
       "accuracy          NaN     NaN      0.77   179.00\n",
       "macro avg         0.77    0.77      0.77   179.00\n",
       "weighted avg      0.78    0.77      0.77   179.00"
      ]
     },
     "execution_count": 1,
     "metadata": {},
     "output_type": "execute_result"
    },
    {
     "data": {
      "image/png": "iVBORw0KGgoAAAANSUhEUgAAA/IAAACuCAIAAAA6I+zjAAAAAXNSR0IArs4c6QAAAARnQU1BAACx\njwv8YQUAAAAJcEhZcwAADsMAAA7DAcdvqGQAABEFSURBVHhe7d3dbxRlfcjx/7rIENRvWKzWrKt\n...truncated...\nAAAAAElFTkSuQmCC\n"
     },
     "execution_count": 1,
     "metadata": {},
     "output_type": "display_data"
    }
   ],
   "source": [
    "import pandas as pd\n",
    "from sklearn.metrics import classification_report\n",
    "from IPython.display import display\n",
    "\n",
    "# Ejemplo de informe de clasificación\n",
    "# Los valores son ficticios\n",
    "classification_report_data = {\n",
    "    'Precision': [0.83, 0.71, None, 0.77, 0.78],\n",
    "    'Recall': [0.73, 0.81, None, 0.77, 0.77],\n",
    "    'F1-Score': [0.78, 0.76, 0.77, 0.77, 0.77],\n",
    "    'Support': [111, 68, 179, 179, 179]\n",
    "}\n",
    "\n",
    "classification_report_df = pd.DataFrame(classification_report_data, index=[0, 1, 'accuracy', 'macro avg', 'weighted avg'])\n",
    "\n",
    "# Mostrar el informe de clasificación como una tabla HTML\n",
    "display(classification_report_df)\n",
    "\n",
    "# Gráfico de barras para las características más importantes\n",
    "# Se muestra un gráfico de barras con datos ficticios\n",
    "# Puedes reemplazar 'feature_importance_data' con tus propios datos\n",
    "# feature_importance_data = {'Feature': ['Feature A', 'Feature B', 'Feature C'], 'Importance': [0.5, 0.3, 0.2]}\n",
    "# feature_importance_df = pd.DataFrame(feature_importance_data)\n",
    "# feature_importance_df.plot(kind='bar', x='Feature', y='Importance', color='blue', title='Feature Importance')"
   ]
  }
 ],
 "metadata": {
  "kernelspec": {
   "display_name": "Python 3",
   "language": "python",
   "name": "python3"
  },
  "language_info": {
   "codemirror_mode": {
    "name": "ipython",
    "version": 3
   },
   "file_extension": ".py",
   "mimetype": "text/x-python",
   "name": "python",
   "nbconvert_exporter": "python",
   "pygments_lexer": "ipython3",
   "version": "3.8.8"
  }
 },
 "nbformat": 4,
 "nbformat_minor": 5
}
 ],
 "metadata": {
  "kernelspec": {
   "display_name": "Python 3",
   "language": "python",
   "name": "python3"
  },
  "language_info": {
   "codemirror_mode": {
    "name": "ipython",
    "version": 3
   },
   "file_extension": ".py",
   "mimetype": "text/x-python",
   "name": "python",
   "nbconvert_exporter": "python",
   "pygments_lexer": "ipython3",
   "version": "3.8.8"
  }
 },
 "nbformat": 4,
 "nbformat_minor": 5
}
